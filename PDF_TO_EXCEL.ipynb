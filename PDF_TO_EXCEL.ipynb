{
 "cells": [
  {
   "cell_type": "markdown",
   "metadata": {},
   "source": [
    "# PEGA UM ARQUIVO INDIVIDUAL E CONVERTE PARA PDF"
   ]
  },
  {
   "cell_type": "code",
   "execution_count": 6,
   "metadata": {},
   "outputs": [],
   "source": [
    "from win32com import client\n",
    "import win32api\n",
    "import pathlib\n",
    "\n",
    "### pip install pypiwin32 if module not found\n",
    "\n",
    "excel_file = \"B ADM N 4 andar M.xlsx\"\n",
    "pdf_file = \"pdf_me.pdf\"\n",
    "excel_path = str(pathlib.Path.cwd() / excel_file)\n",
    "pdf_path = str(pathlib.Path.cwd() / pdf_file)\n",
    "\n",
    "excel = client.DispatchEx(\"Excel.Application\")\n",
    "excel.Visible = 0\n",
    "\n",
    "wb = excel.Workbooks.Open(excel_path)\n",
    "#ws = wb.Worksheets[1]\n",
    "\n",
    "try:\n",
    "    wb.SaveAs(pdf_path, FileFormat=57)\n",
    "except Exception as e:\n",
    "    print(\"Failed to convert\")\n",
    "    print(str(e))\n",
    "finally:\n",
    "    wb.Close()\n",
    "    excel.Quit()"
   ]
  },
  {
   "cell_type": "markdown",
   "metadata": {},
   "source": [
    "# PEGA UMA PASTA E CONVERTE PARA PDF"
   ]
  },
  {
   "cell_type": "code",
   "execution_count": null,
   "metadata": {},
   "outputs": [],
   "source": [
    "import pandas as pd\n",
    "import os\n",
    "from win32com import client\n",
    "import win32api\n",
    "import pathlib\n",
    "\n",
    "url =r'F:\\Grupos\\TRANSFORMACAO_DIGITAL\\excel'\n",
    "\n",
    "\n",
    "for file in os.listdir(url):\n",
    "    try:\n",
    "        file2 = url + '/' + file\n",
    "        #excel_file = \"grade.xlsx\"\n",
    "        nome = file2.split('.')[0]\n",
    "        pdf_file = nome + '.pdf'\n",
    "       \n",
    "        \n",
    "        excel_path = str(pathlib.Path.cwd() / file2)\n",
    "        pdf_path = str(pathlib.Path.cwd() / pdf_file)\n",
    "\n",
    "        excel = client.DispatchEx(\"Excel.Application\")\n",
    "        excel.Visible = 0\n",
    "\n",
    "        wb = excel.Workbooks.Open(excel_path)\n",
    "        #ws = wb.Worksheets[1]\n",
    "\n",
    "        wb.SaveAs(pdf_path, FileFormat=57)\n",
    "        wb.Close()\n",
    "        excel.Quit()\n",
    "\n",
    "    except Exception as e:\n",
    "        print(\"Failed to convert\")\n",
    "        print(str(e))\n",
    "        wb.Close()\n",
    "        excel.Quit()"
   ]
  },
  {
   "cell_type": "markdown",
   "metadata": {},
   "source": [
    "# FAZ UM MERGE(CONCATENA) ARQUIVOS DE PDF"
   ]
  },
  {
   "cell_type": "code",
   "execution_count": null,
   "metadata": {},
   "outputs": [],
   "source": [
    "import os\n",
    "# pip install PyPDF2 if got some error\n",
    "\n",
    "url =r'F:\\Grupos\\TRANSFORMACAO_DIGITAL\\excel'\n",
    "\n",
    "from PyPDF2 import PdfFileMerger\n",
    "# use dict to sort by filepath or filename\n",
    "file_dict = {}\n",
    "for subdir, dirs, files in os.walk(url):\n",
    "    for file in files:\n",
    "        filepath = subdir + os.sep + file\n",
    "        # you can have multiple endswith\n",
    "        if filepath.endswith((\".pdf\", \".PDF\")):\n",
    "            file_dict[file] = filepath\n",
    "# use strict = False to ignore PdfReadError: Illegal character error\n",
    "merger = PdfFileMerger(strict=False)\n",
    "\n",
    "for k, v in file_dict.items():\n",
    "    print(k, v)\n",
    "    merger.append(v)\n",
    "\n",
    "merger.write(\"combined_result.pdf\")"
   ]
  },
  {
   "cell_type": "markdown",
   "metadata": {},
   "source": [
    "# FAZ UM MERGE(CONCATENA) ARQUIVOS DE PDF"
   ]
  },
  {
   "cell_type": "code",
   "execution_count": null,
   "metadata": {},
   "outputs": [],
   "source": [
    "from pdfsplit import splitPages\n",
    "\n",
    "splitPages(\"combined_result_aplited.pdf\", [slice(0, 1, None)])"
   ]
  }
 ],
 "metadata": {
  "kernelspec": {
   "display_name": "Python 3",
   "language": "python",
   "name": "python3"
  },
  "language_info": {
   "codemirror_mode": {
    "name": "ipython",
    "version": 3
   },
   "file_extension": ".py",
   "mimetype": "text/x-python",
   "name": "python",
   "nbconvert_exporter": "python",
   "pygments_lexer": "ipython3",
   "version": "3.7.3"
  }
 },
 "nbformat": 4,
 "nbformat_minor": 2
}
